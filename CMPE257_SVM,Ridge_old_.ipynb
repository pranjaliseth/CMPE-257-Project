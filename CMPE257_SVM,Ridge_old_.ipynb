{
  "cells": [
    {
      "cell_type": "code",
      "execution_count": 1,
      "metadata": {
        "colab": {
          "base_uri": "https://localhost:8080/"
        },
        "id": "X25VQryYHp8b",
        "outputId": "434de39a-b0af-4ad8-931d-d4f3773c7bcd"
      },
      "outputs": [
        {
          "output_type": "stream",
          "name": "stdout",
          "text": [
            "Mounted at /content/drive\n"
          ]
        }
      ],
      "source": [
        "from google.colab import drive\n",
        "drive.mount('/content/drive')"
      ]
    },
    {
      "cell_type": "code",
      "execution_count": 2,
      "metadata": {
        "colab": {
          "base_uri": "https://localhost:8080/",
          "height": 17
        },
        "id": "SJMj39IDHQEI",
        "outputId": "8a5ab2f0-b86b-4f93-daf9-542d75c4ed1d"
      },
      "outputs": [
        {
          "output_type": "display_data",
          "data": {
            "text/html": [
              "        <script type=\"text/javascript\">\n",
              "        window.PlotlyConfig = {MathJaxConfig: 'local'};\n",
              "        if (window.MathJax) {MathJax.Hub.Config({SVG: {font: \"STIX-Web\"}});}\n",
              "        if (typeof require !== 'undefined') {\n",
              "        require.undef(\"plotly\");\n",
              "        requirejs.config({\n",
              "            paths: {\n",
              "                'plotly': ['https://cdn.plot.ly/plotly-2.8.3.min']\n",
              "            }\n",
              "        });\n",
              "        require(['plotly'], function(Plotly) {\n",
              "            window._Plotly = Plotly;\n",
              "        });\n",
              "        }\n",
              "        </script>\n",
              "        "
            ]
          },
          "metadata": {}
        }
      ],
      "source": [
        "import pandas as pd\n",
        "import numpy as np\n",
        "import matplotlib.pyplot as plt\n",
        "import seaborn as sns\n",
        "import plotly.offline as py\n",
        "color = sns.color_palette()\n",
        "import plotly.graph_objs as go\n",
        "py.init_notebook_mode(connected=True)\n",
        "import plotly.tools as tls\n",
        "import warnings\n",
        "warnings.filterwarnings('ignore')"
      ]
    },
    {
      "cell_type": "code",
      "execution_count": 3,
      "metadata": {
        "colab": {
          "base_uri": "https://localhost:8080/"
        },
        "id": "NewBA6RxX8Ln",
        "outputId": "8aa9f5ea-a45f-455e-ef76-15f310dfb081"
      },
      "outputs": [
        {
          "output_type": "stream",
          "name": "stdout",
          "text": [
            "Looking in indexes: https://pypi.org/simple, https://us-python.pkg.dev/colab-wheels/public/simple/\n",
            "Collecting stop_words\n",
            "  Downloading stop-words-2018.7.23.tar.gz (31 kB)\n",
            "Building wheels for collected packages: stop-words\n",
            "  Building wheel for stop-words (setup.py) ... \u001b[?25l\u001b[?25hdone\n",
            "  Created wheel for stop-words: filename=stop_words-2018.7.23-py3-none-any.whl size=32910 sha256=d023659e9024348bade589ecdcbf0ccfe8dd2f466b394cadf203fda70ee73baa\n",
            "  Stored in directory: /root/.cache/pip/wheels/fb/86/b2/277b10b1ce9f73ce15059bf6975d4547cc4ec3feeb651978e9\n",
            "Successfully built stop-words\n",
            "Installing collected packages: stop-words\n",
            "Successfully installed stop-words-2018.7.23\n"
          ]
        }
      ],
      "source": [
        "!pip install stop_words\n",
        "import numpy as np\n",
        "import pandas as pd\n",
        "import matplotlib.pyplot as plt\n",
        "import seaborn as sns\n",
        "import plotly.tools as tls\n",
        "import plotly.offline as py\n",
        "import plotly.graph_objs as go\n",
        "import warnings\n",
        "\n",
        "# NLP modules\n",
        "import nltk\n",
        "import re \n",
        "import string\n",
        "from nltk.corpus import stopwords\n",
        "from stop_words import get_stop_words\n",
        "from nltk.stem.porter import PorterStemmer\n",
        "from textblob import TextBlob , Word\n",
        "from nltk.stem import WordNetLemmatizer\n",
        "from nltk.tokenize import word_tokenize\n",
        "\n",
        "# Wordcloud Modules\n",
        "from wordcloud import WordCloud , STOPWORDS"
      ]
    },
    {
      "cell_type": "code",
      "execution_count": 4,
      "metadata": {
        "colab": {
          "base_uri": "https://localhost:8080/",
          "height": 1000
        },
        "id": "xpUKbcB_ZsZP",
        "outputId": "5d2fdc45-9b88-4b27-8acc-1b5a6ec1fe7e"
      },
      "outputs": [
        {
          "output_type": "display_data",
          "data": {
            "text/html": [
              "        <script type=\"text/javascript\">\n",
              "        window.PlotlyConfig = {MathJaxConfig: 'local'};\n",
              "        if (window.MathJax) {MathJax.Hub.Config({SVG: {font: \"STIX-Web\"}});}\n",
              "        if (typeof require !== 'undefined') {\n",
              "        require.undef(\"plotly\");\n",
              "        requirejs.config({\n",
              "            paths: {\n",
              "                'plotly': ['https://cdn.plot.ly/plotly-2.8.3.min']\n",
              "            }\n",
              "        });\n",
              "        require(['plotly'], function(Plotly) {\n",
              "            window._Plotly = Plotly;\n",
              "        });\n",
              "        }\n",
              "        </script>\n",
              "        "
            ]
          },
          "metadata": {}
        },
        {
          "output_type": "stream",
          "name": "stderr",
          "text": [
            "[nltk_data] Downloading package stopwords to /root/nltk_data...\n",
            "[nltk_data]   Unzipping corpora/stopwords.zip.\n",
            "[nltk_data] Downloading collection 'all'\n",
            "[nltk_data]    | \n",
            "[nltk_data]    | Downloading package abc to /root/nltk_data...\n",
            "[nltk_data]    |   Unzipping corpora/abc.zip.\n",
            "[nltk_data]    | Downloading package alpino to /root/nltk_data...\n",
            "[nltk_data]    |   Unzipping corpora/alpino.zip.\n",
            "[nltk_data]    | Downloading package averaged_perceptron_tagger to\n",
            "[nltk_data]    |     /root/nltk_data...\n",
            "[nltk_data]    |   Unzipping taggers/averaged_perceptron_tagger.zip.\n",
            "[nltk_data]    | Downloading package averaged_perceptron_tagger_ru to\n",
            "[nltk_data]    |     /root/nltk_data...\n",
            "[nltk_data]    |   Unzipping\n",
            "[nltk_data]    |       taggers/averaged_perceptron_tagger_ru.zip.\n",
            "[nltk_data]    | Downloading package basque_grammars to\n",
            "[nltk_data]    |     /root/nltk_data...\n",
            "[nltk_data]    |   Unzipping grammars/basque_grammars.zip.\n",
            "[nltk_data]    | Downloading package biocreative_ppi to\n",
            "[nltk_data]    |     /root/nltk_data...\n",
            "[nltk_data]    |   Unzipping corpora/biocreative_ppi.zip.\n",
            "[nltk_data]    | Downloading package bllip_wsj_no_aux to\n",
            "[nltk_data]    |     /root/nltk_data...\n",
            "[nltk_data]    |   Unzipping models/bllip_wsj_no_aux.zip.\n",
            "[nltk_data]    | Downloading package book_grammars to\n",
            "[nltk_data]    |     /root/nltk_data...\n",
            "[nltk_data]    |   Unzipping grammars/book_grammars.zip.\n",
            "[nltk_data]    | Downloading package brown to /root/nltk_data...\n",
            "[nltk_data]    |   Unzipping corpora/brown.zip.\n",
            "[nltk_data]    | Downloading package brown_tei to /root/nltk_data...\n",
            "[nltk_data]    |   Unzipping corpora/brown_tei.zip.\n",
            "[nltk_data]    | Downloading package cess_cat to /root/nltk_data...\n",
            "[nltk_data]    |   Unzipping corpora/cess_cat.zip.\n",
            "[nltk_data]    | Downloading package cess_esp to /root/nltk_data...\n",
            "[nltk_data]    |   Unzipping corpora/cess_esp.zip.\n",
            "[nltk_data]    | Downloading package chat80 to /root/nltk_data...\n",
            "[nltk_data]    |   Unzipping corpora/chat80.zip.\n",
            "[nltk_data]    | Downloading package city_database to\n",
            "[nltk_data]    |     /root/nltk_data...\n",
            "[nltk_data]    |   Unzipping corpora/city_database.zip.\n",
            "[nltk_data]    | Downloading package cmudict to /root/nltk_data...\n",
            "[nltk_data]    |   Unzipping corpora/cmudict.zip.\n",
            "[nltk_data]    | Downloading package comparative_sentences to\n",
            "[nltk_data]    |     /root/nltk_data...\n",
            "[nltk_data]    |   Unzipping corpora/comparative_sentences.zip.\n",
            "[nltk_data]    | Downloading package comtrans to /root/nltk_data...\n",
            "[nltk_data]    | Downloading package conll2000 to /root/nltk_data...\n",
            "[nltk_data]    |   Unzipping corpora/conll2000.zip.\n",
            "[nltk_data]    | Downloading package conll2002 to /root/nltk_data...\n",
            "[nltk_data]    |   Unzipping corpora/conll2002.zip.\n",
            "[nltk_data]    | Downloading package conll2007 to /root/nltk_data...\n",
            "[nltk_data]    | Downloading package crubadan to /root/nltk_data...\n",
            "[nltk_data]    |   Unzipping corpora/crubadan.zip.\n",
            "[nltk_data]    | Downloading package dependency_treebank to\n",
            "[nltk_data]    |     /root/nltk_data...\n",
            "[nltk_data]    |   Unzipping corpora/dependency_treebank.zip.\n",
            "[nltk_data]    | Downloading package dolch to /root/nltk_data...\n",
            "[nltk_data]    |   Unzipping corpora/dolch.zip.\n",
            "[nltk_data]    | Downloading package europarl_raw to\n",
            "[nltk_data]    |     /root/nltk_data...\n",
            "[nltk_data]    |   Unzipping corpora/europarl_raw.zip.\n",
            "[nltk_data]    | Downloading package extended_omw to\n",
            "[nltk_data]    |     /root/nltk_data...\n",
            "[nltk_data]    | Downloading package floresta to /root/nltk_data...\n",
            "[nltk_data]    |   Unzipping corpora/floresta.zip.\n",
            "[nltk_data]    | Downloading package framenet_v15 to\n",
            "[nltk_data]    |     /root/nltk_data...\n",
            "[nltk_data]    |   Unzipping corpora/framenet_v15.zip.\n",
            "[nltk_data]    | Downloading package framenet_v17 to\n",
            "[nltk_data]    |     /root/nltk_data...\n",
            "[nltk_data]    |   Unzipping corpora/framenet_v17.zip.\n",
            "[nltk_data]    | Downloading package gazetteers to /root/nltk_data...\n",
            "[nltk_data]    |   Unzipping corpora/gazetteers.zip.\n",
            "[nltk_data]    | Downloading package genesis to /root/nltk_data...\n",
            "[nltk_data]    |   Unzipping corpora/genesis.zip.\n",
            "[nltk_data]    | Downloading package gutenberg to /root/nltk_data...\n",
            "[nltk_data]    |   Unzipping corpora/gutenberg.zip.\n",
            "[nltk_data]    | Downloading package ieer to /root/nltk_data...\n",
            "[nltk_data]    |   Unzipping corpora/ieer.zip.\n",
            "[nltk_data]    | Downloading package inaugural to /root/nltk_data...\n",
            "[nltk_data]    |   Unzipping corpora/inaugural.zip.\n",
            "[nltk_data]    | Downloading package indian to /root/nltk_data...\n",
            "[nltk_data]    |   Unzipping corpora/indian.zip.\n",
            "[nltk_data]    | Downloading package jeita to /root/nltk_data...\n",
            "[nltk_data]    | Downloading package kimmo to /root/nltk_data...\n",
            "[nltk_data]    |   Unzipping corpora/kimmo.zip.\n",
            "[nltk_data]    | Downloading package knbc to /root/nltk_data...\n",
            "[nltk_data]    | Downloading package large_grammars to\n",
            "[nltk_data]    |     /root/nltk_data...\n",
            "[nltk_data]    |   Unzipping grammars/large_grammars.zip.\n",
            "[nltk_data]    | Downloading package lin_thesaurus to\n",
            "[nltk_data]    |     /root/nltk_data...\n",
            "[nltk_data]    |   Unzipping corpora/lin_thesaurus.zip.\n",
            "[nltk_data]    | Downloading package mac_morpho to /root/nltk_data...\n",
            "[nltk_data]    |   Unzipping corpora/mac_morpho.zip.\n",
            "[nltk_data]    | Downloading package machado to /root/nltk_data...\n",
            "[nltk_data]    | Downloading package masc_tagged to /root/nltk_data...\n",
            "[nltk_data]    | Downloading package maxent_ne_chunker to\n",
            "[nltk_data]    |     /root/nltk_data...\n",
            "[nltk_data]    |   Unzipping chunkers/maxent_ne_chunker.zip.\n",
            "[nltk_data]    | Downloading package maxent_treebank_pos_tagger to\n",
            "[nltk_data]    |     /root/nltk_data...\n",
            "[nltk_data]    |   Unzipping taggers/maxent_treebank_pos_tagger.zip.\n",
            "[nltk_data]    | Downloading package moses_sample to\n",
            "[nltk_data]    |     /root/nltk_data...\n",
            "[nltk_data]    |   Unzipping models/moses_sample.zip.\n",
            "[nltk_data]    | Downloading package movie_reviews to\n",
            "[nltk_data]    |     /root/nltk_data...\n",
            "[nltk_data]    |   Unzipping corpora/movie_reviews.zip.\n",
            "[nltk_data]    | Downloading package mte_teip5 to /root/nltk_data...\n",
            "[nltk_data]    |   Unzipping corpora/mte_teip5.zip.\n",
            "[nltk_data]    | Downloading package mwa_ppdb to /root/nltk_data...\n",
            "[nltk_data]    |   Unzipping misc/mwa_ppdb.zip.\n",
            "[nltk_data]    | Downloading package names to /root/nltk_data...\n",
            "[nltk_data]    |   Unzipping corpora/names.zip.\n",
            "[nltk_data]    | Downloading package nombank.1.0 to /root/nltk_data...\n",
            "[nltk_data]    | Downloading package nonbreaking_prefixes to\n",
            "[nltk_data]    |     /root/nltk_data...\n",
            "[nltk_data]    |   Unzipping corpora/nonbreaking_prefixes.zip.\n",
            "[nltk_data]    | Downloading package nps_chat to /root/nltk_data...\n",
            "[nltk_data]    |   Unzipping corpora/nps_chat.zip.\n",
            "[nltk_data]    | Downloading package omw to /root/nltk_data...\n",
            "[nltk_data]    | Downloading package omw-1.4 to /root/nltk_data...\n",
            "[nltk_data]    | Downloading package opinion_lexicon to\n",
            "[nltk_data]    |     /root/nltk_data...\n",
            "[nltk_data]    |   Unzipping corpora/opinion_lexicon.zip.\n",
            "[nltk_data]    | Downloading package panlex_swadesh to\n",
            "[nltk_data]    |     /root/nltk_data...\n",
            "[nltk_data]    | Downloading package paradigms to /root/nltk_data...\n",
            "[nltk_data]    |   Unzipping corpora/paradigms.zip.\n",
            "[nltk_data]    | Downloading package pe08 to /root/nltk_data...\n",
            "[nltk_data]    |   Unzipping corpora/pe08.zip.\n",
            "[nltk_data]    | Downloading package perluniprops to\n",
            "[nltk_data]    |     /root/nltk_data...\n",
            "[nltk_data]    |   Unzipping misc/perluniprops.zip.\n",
            "[nltk_data]    | Downloading package pil to /root/nltk_data...\n",
            "[nltk_data]    |   Unzipping corpora/pil.zip.\n",
            "[nltk_data]    | Downloading package pl196x to /root/nltk_data...\n",
            "[nltk_data]    |   Unzipping corpora/pl196x.zip.\n",
            "[nltk_data]    | Downloading package porter_test to /root/nltk_data...\n",
            "[nltk_data]    |   Unzipping stemmers/porter_test.zip.\n",
            "[nltk_data]    | Downloading package ppattach to /root/nltk_data...\n",
            "[nltk_data]    |   Unzipping corpora/ppattach.zip.\n",
            "[nltk_data]    | Downloading package problem_reports to\n",
            "[nltk_data]    |     /root/nltk_data...\n",
            "[nltk_data]    |   Unzipping corpora/problem_reports.zip.\n",
            "[nltk_data]    | Downloading package product_reviews_1 to\n",
            "[nltk_data]    |     /root/nltk_data...\n",
            "[nltk_data]    |   Unzipping corpora/product_reviews_1.zip.\n",
            "[nltk_data]    | Downloading package product_reviews_2 to\n",
            "[nltk_data]    |     /root/nltk_data...\n",
            "[nltk_data]    |   Unzipping corpora/product_reviews_2.zip.\n",
            "[nltk_data]    | Downloading package propbank to /root/nltk_data...\n",
            "[nltk_data]    | Downloading package pros_cons to /root/nltk_data...\n",
            "[nltk_data]    |   Unzipping corpora/pros_cons.zip.\n",
            "[nltk_data]    | Downloading package ptb to /root/nltk_data...\n",
            "[nltk_data]    |   Unzipping corpora/ptb.zip.\n",
            "[nltk_data]    | Downloading package punkt to /root/nltk_data...\n",
            "[nltk_data]    |   Unzipping tokenizers/punkt.zip.\n",
            "[nltk_data]    | Downloading package qc to /root/nltk_data...\n",
            "[nltk_data]    |   Unzipping corpora/qc.zip.\n",
            "[nltk_data]    | Downloading package reuters to /root/nltk_data...\n",
            "[nltk_data]    | Downloading package rslp to /root/nltk_data...\n",
            "[nltk_data]    |   Unzipping stemmers/rslp.zip.\n",
            "[nltk_data]    | Downloading package rte to /root/nltk_data...\n",
            "[nltk_data]    |   Unzipping corpora/rte.zip.\n",
            "[nltk_data]    | Downloading package sample_grammars to\n",
            "[nltk_data]    |     /root/nltk_data...\n",
            "[nltk_data]    |   Unzipping grammars/sample_grammars.zip.\n",
            "[nltk_data]    | Downloading package semcor to /root/nltk_data...\n",
            "[nltk_data]    | Downloading package senseval to /root/nltk_data...\n",
            "[nltk_data]    |   Unzipping corpora/senseval.zip.\n",
            "[nltk_data]    | Downloading package sentence_polarity to\n",
            "[nltk_data]    |     /root/nltk_data...\n",
            "[nltk_data]    |   Unzipping corpora/sentence_polarity.zip.\n",
            "[nltk_data]    | Downloading package sentiwordnet to\n",
            "[nltk_data]    |     /root/nltk_data...\n",
            "[nltk_data]    |   Unzipping corpora/sentiwordnet.zip.\n",
            "[nltk_data]    | Downloading package shakespeare to /root/nltk_data...\n",
            "[nltk_data]    |   Unzipping corpora/shakespeare.zip.\n",
            "[nltk_data]    | Downloading package sinica_treebank to\n",
            "[nltk_data]    |     /root/nltk_data...\n",
            "[nltk_data]    |   Unzipping corpora/sinica_treebank.zip.\n",
            "[nltk_data]    | Downloading package smultron to /root/nltk_data...\n",
            "[nltk_data]    |   Unzipping corpora/smultron.zip.\n",
            "[nltk_data]    | Downloading package snowball_data to\n",
            "[nltk_data]    |     /root/nltk_data...\n",
            "[nltk_data]    | Downloading package spanish_grammars to\n",
            "[nltk_data]    |     /root/nltk_data...\n",
            "[nltk_data]    |   Unzipping grammars/spanish_grammars.zip.\n",
            "[nltk_data]    | Downloading package state_union to /root/nltk_data...\n",
            "[nltk_data]    |   Unzipping corpora/state_union.zip.\n",
            "[nltk_data]    | Downloading package stopwords to /root/nltk_data...\n",
            "[nltk_data]    |   Package stopwords is already up-to-date!\n",
            "[nltk_data]    | Downloading package subjectivity to\n",
            "[nltk_data]    |     /root/nltk_data...\n",
            "[nltk_data]    |   Unzipping corpora/subjectivity.zip.\n",
            "[nltk_data]    | Downloading package swadesh to /root/nltk_data...\n",
            "[nltk_data]    |   Unzipping corpora/swadesh.zip.\n",
            "[nltk_data]    | Downloading package switchboard to /root/nltk_data...\n",
            "[nltk_data]    |   Unzipping corpora/switchboard.zip.\n",
            "[nltk_data]    | Downloading package tagsets to /root/nltk_data...\n",
            "[nltk_data]    |   Unzipping help/tagsets.zip.\n",
            "[nltk_data]    | Downloading package timit to /root/nltk_data...\n",
            "[nltk_data]    |   Unzipping corpora/timit.zip.\n",
            "[nltk_data]    | Downloading package toolbox to /root/nltk_data...\n",
            "[nltk_data]    |   Unzipping corpora/toolbox.zip.\n",
            "[nltk_data]    | Downloading package treebank to /root/nltk_data...\n",
            "[nltk_data]    |   Unzipping corpora/treebank.zip.\n",
            "[nltk_data]    | Downloading package twitter_samples to\n",
            "[nltk_data]    |     /root/nltk_data...\n",
            "[nltk_data]    |   Unzipping corpora/twitter_samples.zip.\n",
            "[nltk_data]    | Downloading package udhr to /root/nltk_data...\n",
            "[nltk_data]    |   Unzipping corpora/udhr.zip.\n",
            "[nltk_data]    | Downloading package udhr2 to /root/nltk_data...\n",
            "[nltk_data]    |   Unzipping corpora/udhr2.zip.\n",
            "[nltk_data]    | Downloading package unicode_samples to\n",
            "[nltk_data]    |     /root/nltk_data...\n",
            "[nltk_data]    |   Unzipping corpora/unicode_samples.zip.\n",
            "[nltk_data]    | Downloading package universal_tagset to\n",
            "[nltk_data]    |     /root/nltk_data...\n",
            "[nltk_data]    |   Unzipping taggers/universal_tagset.zip.\n",
            "[nltk_data]    | Downloading package universal_treebanks_v20 to\n",
            "[nltk_data]    |     /root/nltk_data...\n",
            "[nltk_data]    | Downloading package vader_lexicon to\n",
            "[nltk_data]    |     /root/nltk_data...\n",
            "[nltk_data]    | Downloading package verbnet to /root/nltk_data...\n",
            "[nltk_data]    |   Unzipping corpora/verbnet.zip.\n",
            "[nltk_data]    | Downloading package verbnet3 to /root/nltk_data...\n",
            "[nltk_data]    |   Unzipping corpora/verbnet3.zip.\n",
            "[nltk_data]    | Downloading package webtext to /root/nltk_data...\n",
            "[nltk_data]    |   Unzipping corpora/webtext.zip.\n",
            "[nltk_data]    | Downloading package wmt15_eval to /root/nltk_data...\n",
            "[nltk_data]    |   Unzipping models/wmt15_eval.zip.\n",
            "[nltk_data]    | Downloading package word2vec_sample to\n",
            "[nltk_data]    |     /root/nltk_data...\n",
            "[nltk_data]    |   Unzipping models/word2vec_sample.zip.\n",
            "[nltk_data]    | Downloading package wordnet to /root/nltk_data...\n",
            "[nltk_data]    | Downloading package wordnet2021 to /root/nltk_data...\n",
            "[nltk_data]    | Downloading package wordnet31 to /root/nltk_data...\n",
            "[nltk_data]    | Downloading package wordnet_ic to /root/nltk_data...\n",
            "[nltk_data]    |   Unzipping corpora/wordnet_ic.zip.\n",
            "[nltk_data]    | Downloading package words to /root/nltk_data...\n",
            "[nltk_data]    |   Unzipping corpora/words.zip.\n",
            "[nltk_data]    | Downloading package ycoe to /root/nltk_data...\n",
            "[nltk_data]    |   Unzipping corpora/ycoe.zip.\n",
            "[nltk_data]    | \n",
            "[nltk_data]  Done downloading collection all\n"
          ]
        },
        {
          "output_type": "execute_result",
          "data": {
            "text/plain": [
              "True"
            ]
          },
          "metadata": {},
          "execution_count": 4
        }
      ],
      "source": [
        "color = sns.color_palette()\n",
        "warnings.filterwarnings('ignore')\n",
        "py.init_notebook_mode(connected=True)\n",
        "nltk.download(\"stopwords\")\n",
        "nltk.download(\"all\")"
      ]
    },
    {
      "cell_type": "code",
      "execution_count": 5,
      "metadata": {
        "colab": {
          "base_uri": "https://localhost:8080/",
          "height": 525
        },
        "id": "R9Puc1XdHl5V",
        "outputId": "9dae218c-b4f9-4efe-9d23-3e91391303ab"
      },
      "outputs": [
        {
          "output_type": "execute_result",
          "data": {
            "text/plain": [
              "                     id       asins      brand  \\\n",
              "0  AVpf3txeLJeJML43FN82  B0168YIWSI  Microsoft   \n",
              "1  AVpf3txeLJeJML43FN82  B0168YIWSI  Microsoft   \n",
              "2  AVpf3txeLJeJML43FN82  B0168YIWSI  Microsoft   \n",
              "3  AVpf3txeLJeJML43FN82  B0168YIWSI  Microsoft   \n",
              "4  AVpf3txeLJeJML43FN82  B0168YIWSI  Microsoft   \n",
              "\n",
              "                                          categories colors  \\\n",
              "0  Electronics,Computers,Computer Accessories,Key...  Black   \n",
              "1  Electronics,Computers,Computer Accessories,Key...  Black   \n",
              "2  Electronics,Computers,Computer Accessories,Key...  Black   \n",
              "3  Electronics,Computers,Computer Accessories,Key...  Black   \n",
              "4  Electronics,Computers,Computer Accessories,Key...  Black   \n",
              "\n",
              "              dateAdded           dateUpdated                   dimension  \\\n",
              "0  2015-11-13T12:28:09Z  2018-01-29T02:15:13Z  11.6 in x 8.5 in x 0.19 in   \n",
              "1  2015-11-13T12:28:09Z  2018-01-29T02:15:13Z  11.6 in x 8.5 in x 0.19 in   \n",
              "2  2015-11-13T12:28:09Z  2018-01-29T02:15:13Z  11.6 in x 8.5 in x 0.19 in   \n",
              "3  2015-11-13T12:28:09Z  2018-01-29T02:15:13Z  11.6 in x 8.5 in x 0.19 in   \n",
              "4  2015-11-13T12:28:09Z  2018-01-29T02:15:13Z  11.6 in x 8.5 in x 0.19 in   \n",
              "\n",
              "            ean                                          imageURLs  ...  \\\n",
              "0  8.900000e+11  https://i5.walmartimages.com/asr/2a41f6f0-844e...  ...   \n",
              "1  8.900000e+11  https://i5.walmartimages.com/asr/2a41f6f0-844e...  ...   \n",
              "2  8.900000e+11  https://i5.walmartimages.com/asr/2a41f6f0-844e...  ...   \n",
              "3  8.900000e+11  https://i5.walmartimages.com/asr/2a41f6f0-844e...  ...   \n",
              "4  8.900000e+11  https://i5.walmartimages.com/asr/2a41f6f0-844e...  ...   \n",
              "\n",
              "  reviews.doRecommend reviews.numHelpful reviews.rating  \\\n",
              "0                True                0.0            5.0   \n",
              "1                True                0.0            4.0   \n",
              "2                True                0.0            4.0   \n",
              "3                True                0.0            5.0   \n",
              "4                True                0.0            5.0   \n",
              "\n",
              "                                  reviews.sourceURLs  \\\n",
              "0  http://reviews.bestbuy.com/3545/4562009/review...   \n",
              "1  http://reviews.bestbuy.com/3545/4562009/review...   \n",
              "2  http://reviews.bestbuy.com/3545/4562009/review...   \n",
              "3  http://reviews.bestbuy.com/3545/4562009/review...   \n",
              "4  http://reviews.bestbuy.com/3545/4562009/review...   \n",
              "\n",
              "                                        reviews.text  \\\n",
              "0  This keyboard is very easy to type on, but the...   \n",
              "1  It's thin and light. I can type pretty easily ...   \n",
              "2  I love the new design the keys are spaced well...   \n",
              "3  Attached easily and firmly. Has a nice feel. A...   \n",
              "4  Our original keyboard was okay, but did not ha...   \n",
              "\n",
              "                 reviews.title reviews.username  \\\n",
              "0  Love the fingerprint reader             JNH1   \n",
              "1                         Nice             Appa   \n",
              "2                          New             Kman   \n",
              "3                Nice keyboard        UpstateNY   \n",
              "4             Nice improvement        Glickster   \n",
              "\n",
              "                                          sourceURLs           upc      weight  \n",
              "0  https://www.walmart.com/ip/Microsoft-Surface-P...  8.900000e+11  1.1 pounds  \n",
              "1  https://www.walmart.com/ip/Microsoft-Surface-P...  8.900000e+11  1.1 pounds  \n",
              "2  https://www.walmart.com/ip/Microsoft-Surface-P...  8.900000e+11  1.1 pounds  \n",
              "3  https://www.walmart.com/ip/Microsoft-Surface-P...  8.900000e+11  1.1 pounds  \n",
              "4  https://www.walmart.com/ip/Microsoft-Surface-P...  8.900000e+11  1.1 pounds  \n",
              "\n",
              "[5 rows x 27 columns]"
            ],
            "text/html": [
              "\n",
              "  <div id=\"df-786ec645-f368-45c1-a290-663827134cee\">\n",
              "    <div class=\"colab-df-container\">\n",
              "      <div>\n",
              "<style scoped>\n",
              "    .dataframe tbody tr th:only-of-type {\n",
              "        vertical-align: middle;\n",
              "    }\n",
              "\n",
              "    .dataframe tbody tr th {\n",
              "        vertical-align: top;\n",
              "    }\n",
              "\n",
              "    .dataframe thead th {\n",
              "        text-align: right;\n",
              "    }\n",
              "</style>\n",
              "<table border=\"1\" class=\"dataframe\">\n",
              "  <thead>\n",
              "    <tr style=\"text-align: right;\">\n",
              "      <th></th>\n",
              "      <th>id</th>\n",
              "      <th>asins</th>\n",
              "      <th>brand</th>\n",
              "      <th>categories</th>\n",
              "      <th>colors</th>\n",
              "      <th>dateAdded</th>\n",
              "      <th>dateUpdated</th>\n",
              "      <th>dimension</th>\n",
              "      <th>ean</th>\n",
              "      <th>imageURLs</th>\n",
              "      <th>...</th>\n",
              "      <th>reviews.doRecommend</th>\n",
              "      <th>reviews.numHelpful</th>\n",
              "      <th>reviews.rating</th>\n",
              "      <th>reviews.sourceURLs</th>\n",
              "      <th>reviews.text</th>\n",
              "      <th>reviews.title</th>\n",
              "      <th>reviews.username</th>\n",
              "      <th>sourceURLs</th>\n",
              "      <th>upc</th>\n",
              "      <th>weight</th>\n",
              "    </tr>\n",
              "  </thead>\n",
              "  <tbody>\n",
              "    <tr>\n",
              "      <th>0</th>\n",
              "      <td>AVpf3txeLJeJML43FN82</td>\n",
              "      <td>B0168YIWSI</td>\n",
              "      <td>Microsoft</td>\n",
              "      <td>Electronics,Computers,Computer Accessories,Key...</td>\n",
              "      <td>Black</td>\n",
              "      <td>2015-11-13T12:28:09Z</td>\n",
              "      <td>2018-01-29T02:15:13Z</td>\n",
              "      <td>11.6 in x 8.5 in x 0.19 in</td>\n",
              "      <td>8.900000e+11</td>\n",
              "      <td>https://i5.walmartimages.com/asr/2a41f6f0-844e...</td>\n",
              "      <td>...</td>\n",
              "      <td>True</td>\n",
              "      <td>0.0</td>\n",
              "      <td>5.0</td>\n",
              "      <td>http://reviews.bestbuy.com/3545/4562009/review...</td>\n",
              "      <td>This keyboard is very easy to type on, but the...</td>\n",
              "      <td>Love the fingerprint reader</td>\n",
              "      <td>JNH1</td>\n",
              "      <td>https://www.walmart.com/ip/Microsoft-Surface-P...</td>\n",
              "      <td>8.900000e+11</td>\n",
              "      <td>1.1 pounds</td>\n",
              "    </tr>\n",
              "    <tr>\n",
              "      <th>1</th>\n",
              "      <td>AVpf3txeLJeJML43FN82</td>\n",
              "      <td>B0168YIWSI</td>\n",
              "      <td>Microsoft</td>\n",
              "      <td>Electronics,Computers,Computer Accessories,Key...</td>\n",
              "      <td>Black</td>\n",
              "      <td>2015-11-13T12:28:09Z</td>\n",
              "      <td>2018-01-29T02:15:13Z</td>\n",
              "      <td>11.6 in x 8.5 in x 0.19 in</td>\n",
              "      <td>8.900000e+11</td>\n",
              "      <td>https://i5.walmartimages.com/asr/2a41f6f0-844e...</td>\n",
              "      <td>...</td>\n",
              "      <td>True</td>\n",
              "      <td>0.0</td>\n",
              "      <td>4.0</td>\n",
              "      <td>http://reviews.bestbuy.com/3545/4562009/review...</td>\n",
              "      <td>It's thin and light. I can type pretty easily ...</td>\n",
              "      <td>Nice</td>\n",
              "      <td>Appa</td>\n",
              "      <td>https://www.walmart.com/ip/Microsoft-Surface-P...</td>\n",
              "      <td>8.900000e+11</td>\n",
              "      <td>1.1 pounds</td>\n",
              "    </tr>\n",
              "    <tr>\n",
              "      <th>2</th>\n",
              "      <td>AVpf3txeLJeJML43FN82</td>\n",
              "      <td>B0168YIWSI</td>\n",
              "      <td>Microsoft</td>\n",
              "      <td>Electronics,Computers,Computer Accessories,Key...</td>\n",
              "      <td>Black</td>\n",
              "      <td>2015-11-13T12:28:09Z</td>\n",
              "      <td>2018-01-29T02:15:13Z</td>\n",
              "      <td>11.6 in x 8.5 in x 0.19 in</td>\n",
              "      <td>8.900000e+11</td>\n",
              "      <td>https://i5.walmartimages.com/asr/2a41f6f0-844e...</td>\n",
              "      <td>...</td>\n",
              "      <td>True</td>\n",
              "      <td>0.0</td>\n",
              "      <td>4.0</td>\n",
              "      <td>http://reviews.bestbuy.com/3545/4562009/review...</td>\n",
              "      <td>I love the new design the keys are spaced well...</td>\n",
              "      <td>New</td>\n",
              "      <td>Kman</td>\n",
              "      <td>https://www.walmart.com/ip/Microsoft-Surface-P...</td>\n",
              "      <td>8.900000e+11</td>\n",
              "      <td>1.1 pounds</td>\n",
              "    </tr>\n",
              "    <tr>\n",
              "      <th>3</th>\n",
              "      <td>AVpf3txeLJeJML43FN82</td>\n",
              "      <td>B0168YIWSI</td>\n",
              "      <td>Microsoft</td>\n",
              "      <td>Electronics,Computers,Computer Accessories,Key...</td>\n",
              "      <td>Black</td>\n",
              "      <td>2015-11-13T12:28:09Z</td>\n",
              "      <td>2018-01-29T02:15:13Z</td>\n",
              "      <td>11.6 in x 8.5 in x 0.19 in</td>\n",
              "      <td>8.900000e+11</td>\n",
              "      <td>https://i5.walmartimages.com/asr/2a41f6f0-844e...</td>\n",
              "      <td>...</td>\n",
              "      <td>True</td>\n",
              "      <td>0.0</td>\n",
              "      <td>5.0</td>\n",
              "      <td>http://reviews.bestbuy.com/3545/4562009/review...</td>\n",
              "      <td>Attached easily and firmly. Has a nice feel. A...</td>\n",
              "      <td>Nice keyboard</td>\n",
              "      <td>UpstateNY</td>\n",
              "      <td>https://www.walmart.com/ip/Microsoft-Surface-P...</td>\n",
              "      <td>8.900000e+11</td>\n",
              "      <td>1.1 pounds</td>\n",
              "    </tr>\n",
              "    <tr>\n",
              "      <th>4</th>\n",
              "      <td>AVpf3txeLJeJML43FN82</td>\n",
              "      <td>B0168YIWSI</td>\n",
              "      <td>Microsoft</td>\n",
              "      <td>Electronics,Computers,Computer Accessories,Key...</td>\n",
              "      <td>Black</td>\n",
              "      <td>2015-11-13T12:28:09Z</td>\n",
              "      <td>2018-01-29T02:15:13Z</td>\n",
              "      <td>11.6 in x 8.5 in x 0.19 in</td>\n",
              "      <td>8.900000e+11</td>\n",
              "      <td>https://i5.walmartimages.com/asr/2a41f6f0-844e...</td>\n",
              "      <td>...</td>\n",
              "      <td>True</td>\n",
              "      <td>0.0</td>\n",
              "      <td>5.0</td>\n",
              "      <td>http://reviews.bestbuy.com/3545/4562009/review...</td>\n",
              "      <td>Our original keyboard was okay, but did not ha...</td>\n",
              "      <td>Nice improvement</td>\n",
              "      <td>Glickster</td>\n",
              "      <td>https://www.walmart.com/ip/Microsoft-Surface-P...</td>\n",
              "      <td>8.900000e+11</td>\n",
              "      <td>1.1 pounds</td>\n",
              "    </tr>\n",
              "  </tbody>\n",
              "</table>\n",
              "<p>5 rows × 27 columns</p>\n",
              "</div>\n",
              "      <button class=\"colab-df-convert\" onclick=\"convertToInteractive('df-786ec645-f368-45c1-a290-663827134cee')\"\n",
              "              title=\"Convert this dataframe to an interactive table.\"\n",
              "              style=\"display:none;\">\n",
              "        \n",
              "  <svg xmlns=\"http://www.w3.org/2000/svg\" height=\"24px\"viewBox=\"0 0 24 24\"\n",
              "       width=\"24px\">\n",
              "    <path d=\"M0 0h24v24H0V0z\" fill=\"none\"/>\n",
              "    <path d=\"M18.56 5.44l.94 2.06.94-2.06 2.06-.94-2.06-.94-.94-2.06-.94 2.06-2.06.94zm-11 1L8.5 8.5l.94-2.06 2.06-.94-2.06-.94L8.5 2.5l-.94 2.06-2.06.94zm10 10l.94 2.06.94-2.06 2.06-.94-2.06-.94-.94-2.06-.94 2.06-2.06.94z\"/><path d=\"M17.41 7.96l-1.37-1.37c-.4-.4-.92-.59-1.43-.59-.52 0-1.04.2-1.43.59L10.3 9.45l-7.72 7.72c-.78.78-.78 2.05 0 2.83L4 21.41c.39.39.9.59 1.41.59.51 0 1.02-.2 1.41-.59l7.78-7.78 2.81-2.81c.8-.78.8-2.07 0-2.86zM5.41 20L4 18.59l7.72-7.72 1.47 1.35L5.41 20z\"/>\n",
              "  </svg>\n",
              "      </button>\n",
              "      \n",
              "  <style>\n",
              "    .colab-df-container {\n",
              "      display:flex;\n",
              "      flex-wrap:wrap;\n",
              "      gap: 12px;\n",
              "    }\n",
              "\n",
              "    .colab-df-convert {\n",
              "      background-color: #E8F0FE;\n",
              "      border: none;\n",
              "      border-radius: 50%;\n",
              "      cursor: pointer;\n",
              "      display: none;\n",
              "      fill: #1967D2;\n",
              "      height: 32px;\n",
              "      padding: 0 0 0 0;\n",
              "      width: 32px;\n",
              "    }\n",
              "\n",
              "    .colab-df-convert:hover {\n",
              "      background-color: #E2EBFA;\n",
              "      box-shadow: 0px 1px 2px rgba(60, 64, 67, 0.3), 0px 1px 3px 1px rgba(60, 64, 67, 0.15);\n",
              "      fill: #174EA6;\n",
              "    }\n",
              "\n",
              "    [theme=dark] .colab-df-convert {\n",
              "      background-color: #3B4455;\n",
              "      fill: #D2E3FC;\n",
              "    }\n",
              "\n",
              "    [theme=dark] .colab-df-convert:hover {\n",
              "      background-color: #434B5C;\n",
              "      box-shadow: 0px 1px 3px 1px rgba(0, 0, 0, 0.15);\n",
              "      filter: drop-shadow(0px 1px 2px rgba(0, 0, 0, 0.3));\n",
              "      fill: #FFFFFF;\n",
              "    }\n",
              "  </style>\n",
              "\n",
              "      <script>\n",
              "        const buttonEl =\n",
              "          document.querySelector('#df-786ec645-f368-45c1-a290-663827134cee button.colab-df-convert');\n",
              "        buttonEl.style.display =\n",
              "          google.colab.kernel.accessAllowed ? 'block' : 'none';\n",
              "\n",
              "        async function convertToInteractive(key) {\n",
              "          const element = document.querySelector('#df-786ec645-f368-45c1-a290-663827134cee');\n",
              "          const dataTable =\n",
              "            await google.colab.kernel.invokeFunction('convertToInteractive',\n",
              "                                                     [key], {});\n",
              "          if (!dataTable) return;\n",
              "\n",
              "          const docLinkHtml = 'Like what you see? Visit the ' +\n",
              "            '<a target=\"_blank\" href=https://colab.research.google.com/notebooks/data_table.ipynb>data table notebook</a>'\n",
              "            + ' to learn more about interactive tables.';\n",
              "          element.innerHTML = '';\n",
              "          dataTable['output_type'] = 'display_data';\n",
              "          await google.colab.output.renderOutput(dataTable, element);\n",
              "          const docLink = document.createElement('div');\n",
              "          docLink.innerHTML = docLinkHtml;\n",
              "          element.appendChild(docLink);\n",
              "        }\n",
              "      </script>\n",
              "    </div>\n",
              "  </div>\n",
              "  "
            ]
          },
          "metadata": {},
          "execution_count": 5
        }
      ],
      "source": [
        "df=pd.read_csv('/content/drive/MyDrive/CMPE_257_Project/amazon_dataset/DatafinitiElectronicsProductData.csv')\n",
        "df.head(5)"
      ]
    },
    {
      "cell_type": "code",
      "execution_count": 6,
      "metadata": {
        "colab": {
          "base_uri": "https://localhost:8080/"
        },
        "id": "6PFTxUodHzz4",
        "outputId": "d250c288-0b8d-4bb6-c97f-aaa24ee768c5"
      },
      "outputs": [
        {
          "output_type": "execute_result",
          "data": {
            "text/plain": [
              "id                        0\n",
              "asins                     0\n",
              "brand                     0\n",
              "categories                0\n",
              "colors                 2019\n",
              "dateAdded                 0\n",
              "dateUpdated               0\n",
              "dimension              1209\n",
              "ean                    4348\n",
              "imageURLs                 0\n",
              "keys                      0\n",
              "manufacturer           2667\n",
              "manufacturerNumber        0\n",
              "name                      0\n",
              "primaryCategories         0\n",
              "reviews.date             61\n",
              "reviews.dateSeen          0\n",
              "reviews.doRecommend    1391\n",
              "reviews.numHelpful     1486\n",
              "reviews.rating          164\n",
              "reviews.sourceURLs        0\n",
              "reviews.text              5\n",
              "reviews.title             4\n",
              "reviews.username          0\n",
              "sourceURLs                0\n",
              "upc                       0\n",
              "weight                    0\n",
              "dtype: int64"
            ]
          },
          "metadata": {},
          "execution_count": 6
        }
      ],
      "source": [
        "df.isnull().sum()"
      ]
    },
    {
      "cell_type": "code",
      "execution_count": 7,
      "metadata": {
        "id": "YvHortWlIDFu"
      },
      "outputs": [],
      "source": [
        "df = df.dropna(subset=['reviews.text'])"
      ]
    },
    {
      "cell_type": "code",
      "execution_count": 8,
      "metadata": {
        "id": "vr_g9yRTJyzK"
      },
      "outputs": [],
      "source": [
        "df = df.dropna(subset=['reviews.rating'])"
      ]
    },
    {
      "cell_type": "code",
      "execution_count": 9,
      "metadata": {
        "colab": {
          "base_uri": "https://localhost:8080/"
        },
        "id": "r0zxO54qZQJ_",
        "outputId": "5346f7b0-7e72-45dd-c5df-5b527ca85618"
      },
      "outputs": [
        {
          "output_type": "execute_result",
          "data": {
            "text/plain": [
              "14"
            ]
          },
          "metadata": {},
          "execution_count": 9
        }
      ],
      "source": [
        "df.duplicated(subset=['reviews.text', 'reviews.username', 'reviews.rating', 'reviews.date']).sum()"
      ]
    },
    {
      "cell_type": "code",
      "execution_count": 10,
      "metadata": {
        "id": "HEEUDvk7ZQMU"
      },
      "outputs": [],
      "source": [
        "df=df.drop_duplicates(subset=['reviews.text', 'reviews.username', 'reviews.rating', 'reviews.date'])"
      ]
    },
    {
      "cell_type": "code",
      "execution_count": 11,
      "metadata": {
        "colab": {
          "base_uri": "https://localhost:8080/"
        },
        "id": "Msnjrnt5ZQOy",
        "outputId": "c7049974-e532-4590-9d61-79af1d716020"
      },
      "outputs": [
        {
          "output_type": "execute_result",
          "data": {
            "text/plain": [
              "(7116, 27)"
            ]
          },
          "metadata": {},
          "execution_count": 11
        }
      ],
      "source": [
        "df.shape"
      ]
    },
    {
      "cell_type": "code",
      "execution_count": 12,
      "metadata": {
        "id": "mV3Jlvs5ZQRF"
      },
      "outputs": [],
      "source": [
        "df[\"reviews.text\"] = (\n",
        "    df[\"reviews.text\"]\n",
        "    .str.lower()\n",
        "    .str.replace(\"[^\\w\\s]\", \"\")\n",
        "    .str.replace(\"\\d+\", \"\")\n",
        "    .str.replace(\"\\n\", \" \")\n",
        "    .replace(\"\\r\", \"\")\n",
        "    .str.replace(\"[^a-zA-Z0-9\\s]\", \"\")\n",
        ")"
      ]
    },
    {
      "cell_type": "code",
      "execution_count": 13,
      "metadata": {
        "id": "5BZLaxgyZQTo"
      },
      "outputs": [],
      "source": [
        "def word_cleaner(data):\n",
        "    words = [re.sub(\"[^a-zA-Z]\", \" \", i) for i in data]\n",
        "    words = [i.lower() for j in words for i in j.split()] # Split all the sentences into words\n",
        "    words = [i for i in words if not i in set(stopwords.words(\"english\"))] # Split all the sentences into words\n",
        "    return words"
      ]
    },
    {
      "cell_type": "code",
      "execution_count": 14,
      "metadata": {
        "id": "ueYSjLT3ZQWM"
      },
      "outputs": [],
      "source": [
        "word_frequency = pd.DataFrame(\n",
        "    nltk.FreqDist(word_cleaner(df[\"reviews.text\"])).most_common(25),\n",
        "    columns=[\"Frequent_Words\", \"Frequency\"],\n",
        ")"
      ]
    },
    {
      "cell_type": "code",
      "execution_count": 15,
      "metadata": {
        "colab": {
          "base_uri": "https://localhost:8080/",
          "height": 566
        },
        "id": "Q7XGl-pTZnHN",
        "outputId": "9f08ab84-a08a-4e6b-cd9e-a795f7192e7d"
      },
      "outputs": [
        {
          "output_type": "execute_result",
          "data": {
            "text/plain": [
              "<matplotlib.axes._subplots.AxesSubplot at 0x7f0697e1dc90>"
            ]
          },
          "metadata": {},
          "execution_count": 15
        },
        {
          "output_type": "display_data",
          "data": {
            "text/plain": [
              "<Figure size 576x576 with 1 Axes>"
            ],
            "image/png": "[encoded data removed]"
          },
          "metadata": {
            "needs_background": "light"
          }
        }
      ],
      "source": [
        "plt.figure(figsize=(8, 8))\n",
        "plt.xticks(rotation=90)\n",
        "plt.title(\"Most frequently used words in reviews\")\n",
        "sns.barplot(x=\"Frequent_Words\", y=\"Frequency\", data=word_frequency)"
      ]
    },
    {
      "cell_type": "code",
      "execution_count": 16,
      "metadata": {
        "id": "1a-puQAOIHtG"
      },
      "outputs": [],
      "source": [
        "df['reviews_length']=df['reviews.text'].apply(len)"
      ]
    },
    {
      "cell_type": "code",
      "execution_count": 17,
      "metadata": {
        "id": "vjEWhZ5QZPEv"
      },
      "outputs": [],
      "source": [
        "lemmatizer_output = WordNetLemmatizer()\n",
        "\n",
        "df[\"reviews.text\"] = df[\"reviews.text\"].apply(\n",
        "    lambda x: word_tokenize(x.lower())\n",
        ")\n",
        "df[\"reviews.text\"] = df[\"reviews.text\"].apply(\n",
        "    lambda x: [word for word in x if word not in STOPWORDS]\n",
        ")\n",
        "df[\"reviews.text\"] = df[\"reviews.text\"].apply(\n",
        "    lambda x: [lemmatizer_output.lemmatize(word) for word in x]\n",
        ")\n",
        "df[\"reviews.text\"] = df[\"reviews.text\"].apply(lambda x: \" \".join(x))"
      ]
    },
    {
      "cell_type": "code",
      "execution_count": 18,
      "metadata": {
        "colab": {
          "base_uri": "https://localhost:8080/"
        },
        "id": "Dc6p1WrFZPHT",
        "outputId": "c5d07165-7a83-4b2a-9262-388647825fa9"
      },
      "outputs": [
        {
          "output_type": "execute_result",
          "data": {
            "text/plain": [
              "0    keyboard easy type fingerprint reader best fea...\n",
              "1                        thin light type pretty easily\n",
              "2    love new design key spaced well mi type finger...\n",
              "3    attached easily firmly nice feel must surface pro\n",
              "4    original keyboard okay laptop feel bit floppy ...\n",
              "5    purchased replace original surface pro keyboar...\n",
              "6      find comfortable type rarely use fingerprint id\n",
              "7    good keyboard addition surface pro platform de...\n",
              "8    tough getting work surface pro worked bug love...\n",
              "9    now quickly hassle free log surface finger pri...\n",
              "Name: reviews.text, dtype: object"
            ]
          },
          "metadata": {},
          "execution_count": 18
        }
      ],
      "source": [
        "df['reviews.text'].head(10)"
      ]
    },
    {
      "cell_type": "code",
      "execution_count": 19,
      "metadata": {
        "colab": {
          "base_uri": "https://localhost:8080/",
          "height": 477
        },
        "id": "p4VjQngjZPJY",
        "outputId": "b60c3871-d138-4745-85e7-46513c695773"
      },
      "outputs": [
        {
          "output_type": "display_data",
          "data": {
            "text/plain": [
              "<Figure size 1152x1152 with 1 Axes>"
            ],
            "image/png": "[encoded data removed]"
          },
          "metadata": {
            "needs_background": "light"
          }
        }
      ],
      "source": [
        "from wordcloud import WordCloud, STOPWORDS\n",
        "\n",
        "stopwords = set(STOPWORDS)\n",
        "\n",
        "\n",
        "def show_wordcloud(data, title=None):\n",
        "    wordcloud = WordCloud(\n",
        "        background_color=\"black\",\n",
        "        stopwords=stopwords,\n",
        "        max_words=250,\n",
        "        max_font_size=45,\n",
        "        scale=4,\n",
        "        random_state=1,\n",
        "    ).generate(str(data))\n",
        "\n",
        "    fig = plt.figure(1, figsize=(16, 16))\n",
        "    plt.axis(\"off\")\n",
        "    if title:\n",
        "        fig.suptitle(title, fontsize=21)\n",
        "        fig.subplots_adjust(top=2.1)\n",
        "\n",
        "    plt.imshow(wordcloud)\n",
        "    plt.show()\n",
        "\n",
        "\n",
        "show_wordcloud(df[\"reviews.text\"])\n"
      ]
    },
    {
      "cell_type": "code",
      "execution_count": 20,
      "metadata": {
        "colab": {
          "base_uri": "https://localhost:8080/",
          "height": 531
        },
        "id": "IoXzY0GlZPLv",
        "outputId": "4bed58d0-84a8-4879-bb3a-7732285ceedb"
      },
      "outputs": [
        {
          "output_type": "execute_result",
          "data": {
            "text/plain": [
              "[Text(0.5, 1.0, 'Frequency of each rating')]"
            ]
          },
          "metadata": {},
          "execution_count": 20
        },
        {
          "output_type": "display_data",
          "data": {
            "text/plain": [
              "<Figure size 576x576 with 1 Axes>"
            ],
            "image/png": "[encoded data removed]"
          },
          "metadata": {
            "needs_background": "light"
          }
        }
      ],
      "source": [
        "plt.figure(figsize=(8,8))\n",
        "sns.histplot(data=df, x=df['reviews.rating'], discrete=\"True\").set(title = \"Frequency of each rating\")"
      ]
    },
    {
      "cell_type": "code",
      "execution_count": 21,
      "metadata": {
        "colab": {
          "base_uri": "https://localhost:8080/"
        },
        "id": "dWB6zaB_bwJV",
        "outputId": "2ffaa889-432a-4d8c-9b9c-8a6215e9bf83"
      },
      "outputs": [
        {
          "output_type": "stream",
          "name": "stdout",
          "text": [
            "Looking in indexes: https://pypi.org/simple, https://us-python.pkg.dev/colab-wheels/public/simple/\n",
            "Requirement already satisfied: imbalanced-learn in /usr/local/lib/python3.7/dist-packages (0.8.1)\n",
            "Requirement already satisfied: scipy>=0.19.1 in /usr/local/lib/python3.7/dist-packages (from imbalanced-learn) (1.7.3)\n",
            "Requirement already satisfied: joblib>=0.11 in /usr/local/lib/python3.7/dist-packages (from imbalanced-learn) (1.2.0)\n",
            "Requirement already satisfied: scikit-learn>=0.24 in /usr/local/lib/python3.7/dist-packages (from imbalanced-learn) (1.0.2)\n",
            "Requirement already satisfied: numpy>=1.13.3 in /usr/local/lib/python3.7/dist-packages (from imbalanced-learn) (1.21.6)\n",
            "Requirement already satisfied: threadpoolctl>=2.0.0 in /usr/local/lib/python3.7/dist-packages (from scikit-learn>=0.24->imbalanced-learn) (3.1.0)\n"
          ]
        }
      ],
      "source": [
        "!pip install imbalanced-learn"
      ]
    },
    {
      "cell_type": "code",
      "execution_count": 22,
      "metadata": {
        "id": "KqjjBY3hbwMO"
      },
      "outputs": [],
      "source": [
        "from imblearn.over_sampling import RandomOverSampler, SMOTE\n",
        "from imblearn.under_sampling import RandomUnderSampler, NearMiss\n",
        "from collections import Counter"
      ]
    },
    {
      "cell_type": "code",
      "execution_count": 23,
      "metadata": {
        "id": "Z3WgqRXhIL4X"
      },
      "outputs": [],
      "source": [
        "from sklearn.model_selection import cross_val_score\n",
        "from scipy.sparse import hstack\n",
        "from sklearn.feature_extraction.text import TfidfVectorizer\n",
        "\n",
        "all_text=df['reviews.text']\n",
        "train_text=df['reviews.text']\n",
        "y=df['reviews.rating']"
      ]
    },
    {
      "cell_type": "code",
      "execution_count": 24,
      "metadata": {
        "id": "L20IeuHDIhzr"
      },
      "outputs": [],
      "source": [
        "word_vectorizer = TfidfVectorizer(\n",
        "    sublinear_tf=True,\n",
        "    strip_accents='unicode',\n",
        "    analyzer='word',\n",
        "    token_pattern=r'\\w{1,}',\n",
        "    stop_words='english',\n",
        "    ngram_range=(1, 1),\n",
        "    max_features=10000)\n",
        "word_vectorizer.fit(all_text)\n",
        "train_word_features = word_vectorizer.transform(train_text)"
      ]
    },
    {
      "cell_type": "code",
      "execution_count": 25,
      "metadata": {
        "colab": {
          "base_uri": "https://localhost:8080/"
        },
        "id": "TNzTfgWWIkDA",
        "outputId": "a84e5801-d6e4-415e-94ff-dcdab401193b"
      },
      "outputs": [
        {
          "output_type": "execute_result",
          "data": {
            "text/plain": [
              "<7116x10000 sparse matrix of type '<class 'numpy.float64'>'\n",
              "\twith 133154 stored elements in Compressed Sparse Row format>"
            ]
          },
          "metadata": {},
          "execution_count": 25
        }
      ],
      "source": [
        "train_word_features"
      ]
    },
    {
      "cell_type": "code",
      "execution_count": 26,
      "metadata": {
        "id": "OmvdD0iKlKAn"
      },
      "outputs": [],
      "source": [
        "ros = NearMiss()"
      ]
    },
    {
      "cell_type": "code",
      "execution_count": 27,
      "metadata": {
        "id": "j9w6XXeclFcv"
      },
      "outputs": [],
      "source": [
        "X_resample, y_resample = ros.fit_resample(train_word_features, y)"
      ]
    },
    {
      "cell_type": "code",
      "execution_count": 28,
      "metadata": {
        "colab": {
          "base_uri": "https://localhost:8080/"
        },
        "id": "ndPmWLiDlFfV",
        "outputId": "e9b75fa6-21a2-4226-c7a2-ea5500b76a85"
      },
      "outputs": [
        {
          "output_type": "stream",
          "name": "stdout",
          "text": [
            "Original dataset shape Counter({5.0: 4481, 4.0: 1657, 3.0: 438, 1.0: 318, 2.0: 222})\n"
          ]
        }
      ],
      "source": [
        "print('Original dataset shape %s' % Counter(y))"
      ]
    },
    {
      "cell_type": "code",
      "execution_count": 29,
      "metadata": {
        "id": "1XnmbEwQuBqX"
      },
      "outputs": [],
      "source": [
        "smote = SMOTE(random_state=42)\n",
        "X_smote, y_smote= smote.fit_resample(train_word_features, y)"
      ]
    },
    {
      "cell_type": "code",
      "execution_count": 30,
      "metadata": {
        "colab": {
          "base_uri": "https://localhost:8080/"
        },
        "id": "j9QCyom-uBsp",
        "outputId": "3452fc9f-ad78-4c9f-ffc6-d5c58ef73b0a"
      },
      "outputs": [
        {
          "output_type": "stream",
          "name": "stdout",
          "text": [
            "Resampled dataset shape Counter({1.0: 222, 2.0: 222, 3.0: 222, 4.0: 222, 5.0: 222})\n"
          ]
        }
      ],
      "source": [
        "print('Resampled dataset shape %s' % Counter(y_resample))"
      ]
    },
    {
      "cell_type": "code",
      "execution_count": 31,
      "metadata": {
        "colab": {
          "base_uri": "https://localhost:8080/"
        },
        "id": "0PO_ad-KuBvA",
        "outputId": "0d088c99-a7f4-4311-fc72-ba40d712570b"
      },
      "outputs": [
        {
          "output_type": "stream",
          "name": "stdout",
          "text": [
            "Resampled dataset shape Counter({5.0: 4481, 4.0: 4481, 3.0: 4481, 2.0: 4481, 1.0: 4481})\n"
          ]
        }
      ],
      "source": [
        "print('Resampled dataset shape %s' % Counter(y_smote))"
      ]
    },
    {
      "cell_type": "code",
      "execution_count": null,
      "metadata": {
        "id": "2UlFwyf9uBxl"
      },
      "outputs": [],
      "source": []
    },
    {
      "cell_type": "code",
      "execution_count": null,
      "metadata": {
        "id": "Kl6YdSgtInMU"
      },
      "outputs": [],
      "source": []
    },
    {
      "cell_type": "code",
      "execution_count": 32,
      "metadata": {
        "id": "IWeetSXvIqDm"
      },
      "outputs": [],
      "source": [
        "from sklearn.model_selection import train_test_split\n",
        "X_train, X_test, y_train, y_test = train_test_split(X_smote, y_smote,test_size=0.3,random_state=101)"
      ]
    },
    {
      "cell_type": "code",
      "execution_count": 33,
      "metadata": {
        "id": "9Oapvu1qLKlc"
      },
      "outputs": [],
      "source": [
        "from sklearn.metrics import accuracy_score, f1_score"
      ]
    },
    {
      "cell_type": "code",
      "execution_count": 34,
      "metadata": {
        "id": "ooEwt2T1YmOn"
      },
      "outputs": [],
      "source": [
        "from sklearn.model_selection import train_test_split\n",
        "X_train_wf, X_test_wf, y_train_wf, y_test_wf = train_test_split(train_word_features, y,test_size=0.3,random_state=101)"
      ]
    },
    {
      "cell_type": "code",
      "execution_count": 35,
      "metadata": {
        "id": "se8cOGoLy6VL"
      },
      "outputs": [],
      "source": [
        "from sklearn.model_selection import train_test_split\n",
        "X_train_rs, X_test_rs, y_train_rs, y_test_rs = train_test_split(X_resample, y_resample,test_size=0.3,random_state=101)"
      ]
    },
    {
      "cell_type": "code",
      "execution_count": null,
      "metadata": {
        "id": "xtjrr4RpE2bt"
      },
      "outputs": [],
      "source": []
    },
    {
      "cell_type": "code",
      "execution_count": 36,
      "metadata": {
        "id": "ZbkWCaSE6zg9"
      },
      "outputs": [],
      "source": [
        "from sklearn.preprocessing import StandardScaler\n",
        "from sklearn.pipeline import make_pipeline\n",
        "from sklearn.svm import SVC"
      ]
    },
    {
      "cell_type": "code",
      "execution_count": 37,
      "metadata": {
        "id": "4xbNP-W36zjK"
      },
      "outputs": [],
      "source": [
        "clf = make_pipeline(StandardScaler(), SVC(gamma='auto'))"
      ]
    },
    {
      "cell_type": "code",
      "execution_count": null,
      "metadata": {
        "id": "QRi8eLuRL-zy"
      },
      "outputs": [],
      "source": []
    },
    {
      "cell_type": "code",
      "execution_count": 38,
      "metadata": {
        "id": "UFP2P6qgX34t"
      },
      "outputs": [],
      "source": [
        "from sklearn.model_selection import cross_val_score\n",
        "from scipy.sparse import hstack\n",
        "from sklearn.feature_extraction.text import TfidfVectorizer"
      ]
    },
    {
      "cell_type": "code",
      "execution_count": 39,
      "metadata": {
        "id": "myebCTgZYKeS"
      },
      "outputs": [],
      "source": [
        "df.loc[df['reviews.rating'] < 4, 'sentiment'] = 0\n",
        "df.loc[df['reviews.rating'] >= 4, 'sentiment'] = 1"
      ]
    },
    {
      "cell_type": "code",
      "execution_count": 40,
      "metadata": {
        "colab": {
          "base_uri": "https://localhost:8080/"
        },
        "id": "bZ0SgqiIZrc1",
        "outputId": "4469488f-9122-4f8c-c07a-24bd6f558c04"
      },
      "outputs": [
        {
          "output_type": "execute_result",
          "data": {
            "text/plain": [
              "0       1.0\n",
              "1       1.0\n",
              "2       1.0\n",
              "3       1.0\n",
              "4       1.0\n",
              "       ... \n",
              "7294    1.0\n",
              "7295    1.0\n",
              "7296    1.0\n",
              "7297    1.0\n",
              "7298    1.0\n",
              "Name: sentiment, Length: 7116, dtype: float64"
            ]
          },
          "metadata": {},
          "execution_count": 40
        }
      ],
      "source": [
        "df['sentiment']"
      ]
    },
    {
      "cell_type": "code",
      "execution_count": 41,
      "metadata": {
        "id": "bZcVHoYEX37V"
      },
      "outputs": [],
      "source": [
        "all_text=df['reviews.text']\n",
        "train_text=df['reviews.text']\n",
        "y=df['sentiment']"
      ]
    },
    {
      "cell_type": "code",
      "execution_count": null,
      "metadata": {
        "id": "1tz8Pw24Fq6f"
      },
      "outputs": [],
      "source": []
    },
    {
      "cell_type": "code",
      "execution_count": 42,
      "metadata": {
        "id": "2Rbp8IS0qyYT"
      },
      "outputs": [],
      "source": [
        "from sklearn.linear_model import Ridge\n",
        "from sklearn.model_selection import cross_val_score\n",
        "from sklearn.model_selection import RepeatedKFold\n",
        "from numpy import absolute\n",
        "from numpy import mean\n",
        "from numpy import std"
      ]
    },
    {
      "cell_type": "code",
      "execution_count": 43,
      "metadata": {
        "colab": {
          "base_uri": "https://localhost:8080/"
        },
        "id": "OO_WT0XewO2t",
        "outputId": "c232aadf-fad0-43cb-cf65-07177e48bf89"
      },
      "outputs": [
        {
          "output_type": "stream",
          "name": "stdout",
          "text": [
            "Mean MAE: 0.405 (0.010)\n"
          ]
        }
      ],
      "source": [
        "ridgeReg = Ridge(alpha=1.0)\n",
        "\n",
        "cv = RepeatedKFold(n_splits=10, n_repeats=3, random_state=1)\n",
        "# evaluate model\n",
        "scores_ri = cross_val_score(ridgeReg, X_train, y_train, scoring='neg_mean_absolute_error', cv=cv, n_jobs=-1)\n",
        "# force scores to be positive\n",
        "scores_ri = absolute(scores_ri)\n",
        "print('Mean MAE: %.3f (%.3f)' % (mean(scores_ri), std(scores_ri)))\n"
      ]
    },
    {
      "cell_type": "code",
      "execution_count": 44,
      "metadata": {
        "id": "36ccbx65z3zF"
      },
      "outputs": [],
      "source": [
        "ridgeReg.fit(X_train, y_train)\n",
        "reg3 = ridgeReg.predict(X_test)\n"
      ]
    },
    {
      "cell_type": "code",
      "execution_count": 45,
      "metadata": {
        "colab": {
          "base_uri": "https://localhost:8080/"
        },
        "id": "vmdaanhA1xoy",
        "outputId": "2e69c361-a5c5-424e-e8be-e6a4333d5f5e"
      },
      "outputs": [
        {
          "output_type": "execute_result",
          "data": {
            "text/plain": [
              "array([1.96742659, 3.46353235, 3.03770433, ..., 3.26821369, 3.15177393,\n",
              "       3.73541892])"
            ]
          },
          "metadata": {},
          "execution_count": 45
        }
      ],
      "source": [
        "reg3"
      ]
    },
    {
      "cell_type": "code",
      "execution_count": 46,
      "metadata": {
        "colab": {
          "base_uri": "https://localhost:8080/"
        },
        "id": "ibxrTgP15zT1",
        "outputId": "62dfca71-9e19-4063-adbc-6c0540e486cf"
      },
      "outputs": [
        {
          "output_type": "execute_result",
          "data": {
            "text/plain": [
              "0.892767133775277"
            ]
          },
          "metadata": {},
          "execution_count": 46
        }
      ],
      "source": [
        "ridgeReg.score(X_train, y_train)"
      ]
    },
    {
      "cell_type": "code",
      "execution_count": 47,
      "metadata": {
        "colab": {
          "base_uri": "https://localhost:8080/"
        },
        "id": "f_LdK_sH6R2W",
        "outputId": "23ef061d-1fdd-4d4e-914d-857669552d2e"
      },
      "outputs": [
        {
          "output_type": "execute_result",
          "data": {
            "text/plain": [
              "0.679919081069428"
            ]
          },
          "metadata": {},
          "execution_count": 47
        }
      ],
      "source": [
        "ridgereg_wf = Ridge().fit(X_train_wf, y_train_wf)\n",
        "ridgereg_wf.score(X_train_wf, y_train_wf)"
      ]
    },
    {
      "cell_type": "code",
      "execution_count": 48,
      "metadata": {
        "colab": {
          "base_uri": "https://localhost:8080/"
        },
        "id": "qo8KGYRu6UqK",
        "outputId": "9e630ae0-59b5-49ac-e4a4-63a5e2bfbcf2"
      },
      "outputs": [
        {
          "output_type": "execute_result",
          "data": {
            "text/plain": [
              "0.7898246419338069"
            ]
          },
          "metadata": {},
          "execution_count": 48
        }
      ],
      "source": [
        "ridgereg_rs = Ridge().fit(X_train_rs, y_train_rs)\n",
        "ridgereg_rs.score(X_train_rs, y_train_rs)"
      ]
    },
    {
      "cell_type": "code",
      "execution_count": 49,
      "metadata": {
        "id": "6n9b-Q4lxmMH"
      },
      "outputs": [],
      "source": [
        "riy = ridgeReg.predict(X_test)"
      ]
    },
    {
      "cell_type": "code",
      "execution_count": 50,
      "metadata": {
        "id": "jxYvrkVg2ILx"
      },
      "outputs": [],
      "source": [
        "riyo = ridgereg_wf.predict(X_test_wf)"
      ]
    },
    {
      "cell_type": "code",
      "execution_count": 51,
      "metadata": {
        "id": "7o2lcwAL2Z2b"
      },
      "outputs": [],
      "source": [
        "riyu = ridgereg_rs.predict(X_test_rs)"
      ]
    },
    {
      "cell_type": "code",
      "execution_count": 52,
      "metadata": {
        "colab": {
          "base_uri": "https://localhost:8080/"
        },
        "id": "tVEp5sVY2diB",
        "outputId": "d3fd63e9-febd-42f3-bb69-f57a6e9b5eed"
      },
      "outputs": [
        {
          "output_type": "execute_result",
          "data": {
            "text/plain": [
              "(array([1.96742659, 3.46353235, 3.03770433, ..., 3.26821369, 3.15177393,\n",
              "        3.73541892]),\n",
              " array([5.02643314, 4.67849989, 4.16749263, ..., 4.3550859 , 3.03563264,\n",
              "        4.02690633]),\n",
              " array([2.50734611, 2.25421872, 2.10531954, 3.41848214, 3.56722051,\n",
              "        3.12352438, 2.48465959, 2.70629987, 2.10843355, 3.05682773,\n",
              "        2.84590284, 1.80308371, 3.23277386, 5.02984133, 3.09793692,\n",
              "        3.83390301, 2.63546992, 2.60517492, 4.09617675, 2.10695671,\n",
              "        3.79066369, 2.61033796, 3.68998636, 3.22555055, 4.32885165,\n",
              "        3.05295203, 2.19728451, 2.997295  , 2.55901691, 2.17375046,\n",
              "        2.99733205, 2.46773841, 2.20541497, 2.21784235, 2.81532697,\n",
              "        3.30233533, 3.09540447, 1.62403864, 2.49345122, 2.69978387,\n",
              "        2.78431504, 1.95232846, 2.97716564, 4.32637057, 3.32916261,\n",
              "        2.2137479 , 3.38385192, 3.91400185, 2.99210853, 3.30617072,\n",
              "        3.5411833 , 2.35076124, 3.7366641 , 3.64789638, 2.45113537,\n",
              "        2.46270927, 2.76105702, 3.12764337, 3.34458204, 3.45036421,\n",
              "        4.80423028, 4.00612163, 3.50595553, 3.6748399 , 2.22072406,\n",
              "        4.63891273, 3.20247127, 2.31122469, 1.85234945, 2.07248842,\n",
              "        1.69774662, 2.8222494 , 3.91117507, 2.89875889, 3.74441891,\n",
              "        3.4357867 , 2.60671031, 2.49776016, 3.26197686, 3.5825843 ,\n",
              "        2.32897378, 2.83801571, 2.75091791, 1.920256  , 2.85925599,\n",
              "        1.99612381, 2.92181598, 4.11174854, 3.43581431, 4.53193668,\n",
              "        2.48068986, 4.40884567, 4.63910565, 1.73919277, 3.03114916,\n",
              "        3.41062694, 1.32913524, 5.05704642, 3.02022592, 2.60761016,\n",
              "        2.99827628, 2.09809781, 2.66823067, 3.72553199, 2.15007216,\n",
              "        3.88656026, 2.99492079, 1.96376813, 3.26868895, 2.99409235,\n",
              "        3.21513297, 2.82020688, 3.37676816, 3.16406252, 3.06697218,\n",
              "        2.07806913, 2.64104011, 3.28827866, 4.0382373 , 1.77653889,\n",
              "        2.23459089, 2.68821426, 2.90259332, 3.9797377 , 3.08652678,\n",
              "        3.11639636, 3.05016226, 2.97516642, 2.32760591, 3.10473129,\n",
              "        3.26663536, 2.38059201, 2.42919912, 2.10405656, 1.70643288,\n",
              "        2.24636439, 3.83042331, 2.72478868, 2.36172886, 4.33860551,\n",
              "        2.0791314 , 3.05716669, 3.00053918, 4.56918968, 4.33920041,\n",
              "        2.02731561, 2.73944346, 2.1340114 , 2.26722247, 5.32795271,\n",
              "        1.8077706 , 3.47475723, 4.34077973, 3.22159772, 2.86251855,\n",
              "        2.10609729, 2.71367565, 2.81510246, 2.90487425, 2.85250995,\n",
              "        3.7400087 , 4.00214711, 2.10001341, 4.32947519, 4.27594309,\n",
              "        4.47809284, 1.458746  , 2.34467628, 2.91530854, 3.65602123,\n",
              "        2.83398202, 3.07346343, 2.45500189, 2.9339768 , 2.87340386,\n",
              "        2.49126265, 3.84287867, 5.46620518, 4.19772164, 2.00677404,\n",
              "        3.5787767 , 3.74473104, 2.24525848, 4.1753761 , 4.73471557,\n",
              "        3.0812178 , 3.86721369, 4.32799244, 2.90813154, 4.58662188,\n",
              "        2.29411237, 2.70095567, 2.3183659 , 1.7807132 , 2.84645518,\n",
              "        3.90113551, 4.73471557, 3.46915915, 4.90581278, 4.73471557,\n",
              "        4.04818459, 2.50809406, 3.30752489, 3.90085225, 2.47374743,\n",
              "        2.15455605, 3.06919715, 2.59649894, 2.0628681 , 2.24605987,\n",
              "        4.61698618, 3.17580757, 2.87352078, 2.62888018, 5.7363424 ,\n",
              "        3.13785067, 2.70977847, 1.93557913, 2.58917427, 3.00151584,\n",
              "        3.01291925, 4.04070971, 4.73928519, 2.3115553 , 3.06961748,\n",
              "        2.43022339, 3.12351065, 3.78180534, 2.353094  , 2.55242113,\n",
              "        2.36375089, 2.97581186, 4.36742087, 2.84889565, 1.88086911,\n",
              "        3.21534117, 3.74540762, 2.55262489, 1.55493201, 2.3252302 ,\n",
              "        3.24368667, 3.01315034, 2.74926013, 4.88023537, 3.34863938,\n",
              "        2.43236686, 2.7512621 , 3.89191854, 1.43696777, 2.76278949,\n",
              "        3.73489834, 3.84486405, 2.86347242, 2.28995626, 2.00255488,\n",
              "        4.67022089, 2.66609367, 1.16065582, 2.12822584, 2.55398542,\n",
              "        4.63386426, 4.93871105, 3.62510364, 1.90741193, 3.5762847 ,\n",
              "        2.65105411, 3.75692343, 3.49857702, 3.99636628, 3.53591911,\n",
              "        2.85505439, 2.11412644, 2.67844922, 3.57947432, 2.64128355,\n",
              "        3.38211643, 2.66112715, 2.45077076, 3.88870766, 2.59044571,\n",
              "        1.82584048, 4.09914177, 4.20402843, 2.92402729, 3.14999562,\n",
              "        2.27560862, 3.05483661, 2.89512745, 4.52099375, 3.5829887 ,\n",
              "        2.84011984, 3.68185113, 2.57278232, 4.18848179, 1.76639184,\n",
              "        2.43216082, 4.67993651, 4.05965336, 2.14230338, 4.56918968,\n",
              "        4.68675194, 2.32202658, 2.23776824, 1.78135402, 3.32708412,\n",
              "        2.91086937, 3.47474899, 1.66100588, 4.46462094, 3.55670088,\n",
              "        3.23164882, 2.18809828, 2.15923815, 1.70256836, 2.41857077,\n",
              "        2.75764003, 2.92465101, 2.49102418, 1.78567651, 3.24448371,\n",
              "        2.04210321, 4.09650759, 3.54726906, 4.73471557, 2.31930075,\n",
              "        2.13767415, 3.2474051 , 3.0986912 , 3.44757687, 3.5147066 ,\n",
              "        3.81316975, 4.39296135, 3.53332111]))"
            ]
          },
          "metadata": {},
          "execution_count": 52
        }
      ],
      "source": [
        "riy, riyo, riyu"
      ]
    },
    {
      "cell_type": "code",
      "execution_count": 53,
      "metadata": {
        "id": "PH_thhLa23p1"
      },
      "outputs": [],
      "source": [
        "test_ft = word_vectorizer.transform([\"very disappointed with the purchase defective product\"])"
      ]
    },
    {
      "cell_type": "code",
      "execution_count": 54,
      "metadata": {
        "colab": {
          "base_uri": "https://localhost:8080/"
        },
        "id": "EayDjhKVFs9o",
        "outputId": "64f64116-45a9-4c3e-f51d-67e29617db20"
      },
      "outputs": [
        {
          "output_type": "execute_result",
          "data": {
            "text/plain": [
              "array([2.86628358])"
            ]
          },
          "metadata": {},
          "execution_count": 54
        }
      ],
      "source": [
        "ridgeReg.predict(test_ft)"
      ]
    },
    {
      "cell_type": "code",
      "execution_count": 55,
      "metadata": {
        "id": "DMH01YCWF4j6"
      },
      "outputs": [],
      "source": [
        "test_ft = word_vectorizer.transform([\"used to be bad but from when it was updated it is the best product ever\"])"
      ]
    },
    {
      "cell_type": "code",
      "execution_count": 56,
      "metadata": {
        "colab": {
          "base_uri": "https://localhost:8080/"
        },
        "id": "X6Wch-Ix4BQB",
        "outputId": "ca5d744d-64a8-46a0-d1db-a77aaf38ce04"
      },
      "outputs": [
        {
          "output_type": "execute_result",
          "data": {
            "text/plain": [
              "array([3.42923804])"
            ]
          },
          "metadata": {},
          "execution_count": 56
        }
      ],
      "source": [
        "ridgeReg.predict(test_ft)"
      ]
    },
    {
      "cell_type": "code",
      "execution_count": 57,
      "metadata": {
        "colab": {
          "base_uri": "https://localhost:8080/"
        },
        "id": "r3ILdvQCF6Mx",
        "outputId": "1ef46a2e-3848-4949-b63d-73e0bc560986"
      },
      "outputs": [
        {
          "output_type": "execute_result",
          "data": {
            "text/plain": [
              "array([3.78900897])"
            ]
          },
          "metadata": {},
          "execution_count": 57
        }
      ],
      "source": [
        "ridgereg_wf.predict(test_ft)"
      ]
    },
    {
      "cell_type": "code",
      "execution_count": 58,
      "metadata": {
        "colab": {
          "base_uri": "https://localhost:8080/"
        },
        "id": "fdUebA2jGEDg",
        "outputId": "5784906b-22a6-43aa-f512-3b57bd9afde7"
      },
      "outputs": [
        {
          "output_type": "execute_result",
          "data": {
            "text/plain": [
              "array([2.37709163])"
            ]
          },
          "metadata": {},
          "execution_count": 58
        }
      ],
      "source": [
        "ridgereg_rs.predict(test_ft)"
      ]
    },
    {
      "cell_type": "code",
      "execution_count": null,
      "metadata": {
        "id": "f-BKbdopGEOr"
      },
      "outputs": [],
      "source": []
    },
    {
      "cell_type": "code",
      "execution_count": null,
      "metadata": {
        "id": "AdJ3Tx4aJ314"
      },
      "outputs": [],
      "source": [
        "\n"
      ]
    },
    {
      "cell_type": "code",
      "execution_count": null,
      "metadata": {
        "id": "HZYslqzMKq1Z"
      },
      "outputs": [],
      "source": [
        "# SVM"
      ]
    },
    {
      "cell_type": "code",
      "execution_count": 59,
      "metadata": {
        "id": "VPJTMQBPOoay"
      },
      "outputs": [],
      "source": [
        "from sklearn.svm import SVC  \n",
        "clf = SVC(kernel='linear', random_state = 3)"
      ]
    },
    {
      "cell_type": "code",
      "execution_count": 60,
      "metadata": {
        "colab": {
          "base_uri": "https://localhost:8080/"
        },
        "id": "VAiZj8mdOqFS",
        "outputId": "76852b7a-4e68-450b-e6b2-779abe15ef89"
      },
      "outputs": [
        {
          "output_type": "execute_result",
          "data": {
            "text/plain": [
              "SVC(kernel='linear', random_state=3)"
            ]
          },
          "metadata": {},
          "execution_count": 60
        }
      ],
      "source": [
        "clf.fit(X_train, y_train)"
      ]
    },
    {
      "cell_type": "code",
      "execution_count": 61,
      "metadata": {
        "id": "3Fw8rV-zT4dP",
        "colab": {
          "base_uri": "https://localhost:8080/"
        },
        "outputId": "c8056b32-0a49-4d1f-8b79-b4550e2c18c8"
      },
      "outputs": [
        {
          "output_type": "execute_result",
          "data": {
            "text/plain": [
              "SVC(kernel='linear', random_state=3)"
            ]
          },
          "metadata": {},
          "execution_count": 61
        }
      ],
      "source": [
        "clf.fit(X_train_wf, y_train_wf)"
      ]
    },
    {
      "cell_type": "code",
      "execution_count": 62,
      "metadata": {
        "id": "ijhW07PJT4f2",
        "colab": {
          "base_uri": "https://localhost:8080/"
        },
        "outputId": "8ba6eb50-5c97-48f7-d22c-d890cecb6706"
      },
      "outputs": [
        {
          "output_type": "execute_result",
          "data": {
            "text/plain": [
              "SVC(kernel='linear', random_state=3)"
            ]
          },
          "metadata": {},
          "execution_count": 62
        }
      ],
      "source": [
        "clf.fit(X_train_rs, y_train_rs)"
      ]
    },
    {
      "cell_type": "code",
      "execution_count": 63,
      "metadata": {
        "id": "mY82UspMOv8O"
      },
      "outputs": [],
      "source": [
        "svpred = clf.predict(X_test)"
      ]
    },
    {
      "cell_type": "code",
      "execution_count": 64,
      "metadata": {
        "id": "ZnNFb07bT-If"
      },
      "outputs": [],
      "source": [
        "svpred_wf = clf.predict(X_test_wf)"
      ]
    },
    {
      "cell_type": "code",
      "execution_count": 65,
      "metadata": {
        "id": "YxNdIEWxT-Mp"
      },
      "outputs": [],
      "source": [
        "svpred_rs = clf.predict(X_test_rs)"
      ]
    },
    {
      "cell_type": "code",
      "execution_count": 66,
      "metadata": {
        "colab": {
          "base_uri": "https://localhost:8080/"
        },
        "id": "3VDz3F-hP7IG",
        "outputId": "d0ec0fa1-3547-43ab-b03d-a3afdfcfb515"
      },
      "outputs": [
        {
          "output_type": "execute_result",
          "data": {
            "text/plain": [
              "(array([2., 5., 3., ..., 3., 2., 2.]),\n",
              " array([3., 1., 3., ..., 3., 2., 5.]),\n",
              " array([1., 3., 1., 2., 2., 4., 3., 3., 1., 5., 2., 2., 3., 5., 5., 5., 1.,\n",
              "        3., 5., 1., 4., 1., 4., 3., 4., 4., 1., 3., 2., 2., 3., 2., 1., 2.,\n",
              "        1., 4., 2., 1., 3., 3., 3., 2., 2., 5., 5., 2., 2., 4., 4., 3., 4.,\n",
              "        2., 3., 5., 2., 1., 2., 5., 2., 3., 5., 5., 4., 4., 2., 5., 3., 1.,\n",
              "        2., 3., 2., 4., 2., 3., 3., 5., 2., 3., 4., 5., 1., 2., 3., 1., 2.,\n",
              "        1., 3., 5., 5., 4., 1., 4., 5., 1., 4., 3., 1., 5., 3., 2., 4., 3.,\n",
              "        2., 4., 2., 5., 3., 2., 3., 5., 2., 3., 4., 1., 3., 3., 2., 3., 4.,\n",
              "        1., 2., 3., 3., 5., 3., 4., 3., 2., 1., 2., 3., 3., 2., 1., 1., 1.,\n",
              "        5., 2., 1., 4., 1., 2., 2., 5., 4., 2., 2., 3., 3., 5., 2., 3., 5.,\n",
              "        4., 2., 2., 2., 1., 1., 2., 5., 4., 3., 4., 5., 5., 1., 2., 1., 3.,\n",
              "        4., 3., 3., 2., 2., 2., 5., 5., 5., 1., 5., 3., 2., 5., 5., 4., 5.,\n",
              "        5., 2., 5., 2., 3., 2., 1., 2., 4., 5., 4., 5., 5., 4., 3., 2., 5.,\n",
              "        2., 1., 2., 3., 1., 3., 5., 2., 2., 3., 5., 2., 3., 2., 3., 2., 3.,\n",
              "        5., 5., 2., 4., 3., 4., 5., 1., 2., 3., 3., 5., 2., 2., 3., 2., 3.,\n",
              "        1., 3., 2., 1., 3., 5., 3., 4., 3., 3., 1., 3., 5., 5., 3., 1., 1.,\n",
              "        5., 1., 1., 2., 3., 5., 5., 4., 1., 4., 2., 2., 2., 4., 4., 3., 2.,\n",
              "        2., 5., 1., 4., 3., 2., 4., 2., 1., 5., 5., 4., 4., 1., 2., 3., 5.,\n",
              "        3., 1., 4., 2., 5., 2., 1., 5., 5., 1., 5., 5., 3., 1., 1., 4., 3.,\n",
              "        4., 1., 5., 5., 2., 2., 3., 1., 1., 3., 3., 1., 2., 4., 1., 5., 4.,\n",
              "        5., 2., 3., 1., 3., 2., 3., 4., 4., 4.]))"
            ]
          },
          "metadata": {},
          "execution_count": 66
        }
      ],
      "source": [
        "svpred, svpred_wf, svpred_rs"
      ]
    },
    {
      "cell_type": "code",
      "execution_count": 67,
      "metadata": {
        "colab": {
          "base_uri": "https://localhost:8080/"
        },
        "id": "iO2F6AJzQQqE",
        "outputId": "bcb9282e-fc25-4859-84ef-20ededf806ed"
      },
      "outputs": [
        {
          "output_type": "execute_result",
          "data": {
            "text/plain": [
              "0.5532579589407914"
            ]
          },
          "metadata": {},
          "execution_count": 67
        }
      ],
      "source": [
        "f1_score(y_test, svpred, average='micro')"
      ]
    },
    {
      "cell_type": "code",
      "execution_count": 68,
      "metadata": {
        "colab": {
          "base_uri": "https://localhost:8080/"
        },
        "id": "g9NuWGTgQWMv",
        "outputId": "2967b300-6005-45e9-b9f7-2c97db4e86a4"
      },
      "outputs": [
        {
          "output_type": "execute_result",
          "data": {
            "text/plain": [
              "0.326463700234192"
            ]
          },
          "metadata": {},
          "execution_count": 68
        }
      ],
      "source": [
        "f1_score(y_test_wf, svpred_wf, average='micro')"
      ]
    },
    {
      "cell_type": "code",
      "execution_count": 69,
      "metadata": {
        "colab": {
          "base_uri": "https://localhost:8080/"
        },
        "id": "w7tFVZWtSPG-",
        "outputId": "e74ad672-f73c-4dfd-a481-cdbd0fdfe58f"
      },
      "outputs": [
        {
          "output_type": "execute_result",
          "data": {
            "text/plain": [
              "0.3963963963963964"
            ]
          },
          "metadata": {},
          "execution_count": 69
        }
      ],
      "source": [
        "f1_score(y_test_rs, svpred_rs, average='micro')"
      ]
    },
    {
      "cell_type": "code",
      "execution_count": 70,
      "metadata": {
        "colab": {
          "base_uri": "https://localhost:8080/"
        },
        "id": "fxR16YJ6SSiN",
        "outputId": "953329f8-6355-4886-e3e8-53e457afa911"
      },
      "outputs": [
        {
          "output_type": "execute_result",
          "data": {
            "text/plain": [
              "0.5341849918816106"
            ]
          },
          "metadata": {},
          "execution_count": 70
        }
      ],
      "source": [
        "f1_score(y_test, svpred, average='macro')"
      ]
    },
    {
      "cell_type": "code",
      "execution_count": null,
      "metadata": {
        "id": "FRfbHQcjUOAA"
      },
      "outputs": [],
      "source": []
    }
  ],
  "metadata": {
    "accelerator": "GPU",
    "colab": {
      "provenance": []
    },
    "gpuClass": "standard",
    "kernelspec": {
      "display_name": "Python 3",
      "name": "python3"
    },
    "language_info": {
      "name": "python"
    }
  },
  "nbformat": 4,
  "nbformat_minor": 0
}